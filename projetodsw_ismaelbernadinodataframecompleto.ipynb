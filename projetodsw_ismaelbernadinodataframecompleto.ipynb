{
  "nbformat": 4,
  "nbformat_minor": 0,
  "metadata": {
    "colab": {
      "provenance": [],
      "authorship_tag": "ABX9TyMGGCg5LMM1j0U8ZzDDUuIA",
      "include_colab_link": true
    },
    "kernelspec": {
      "name": "python3",
      "display_name": "Python 3"
    },
    "language_info": {
      "name": "python"
    }
  },
  "cells": [
    {
      "cell_type": "markdown",
      "metadata": {
        "id": "view-in-github",
        "colab_type": "text"
      },
      "source": [
        "<a href=\"https://colab.research.google.com/github/ismaelbernadino7/ISMAEL_PROJETODSW/blob/main/projetodsw_ismaelbernadinodataframecompleto.ipynb\" target=\"_parent\"><img src=\"https://colab.research.google.com/assets/colab-badge.svg\" alt=\"Open In Colab\"/></a>"
      ]
    },
    {
      "cell_type": "code",
      "source": [
        "import pandas as pd\n",
        "\n",
        "# Dados fictícios\n",
        "dados = {\n",
        "    \"Data de Check-in\": pd.date_range(start='2025-01-01', periods=15, freq='D'),\n",
        "    \"Avaliação\": [5, 4, 5, 3, 4, 4, 5, 5, 3, 4, 4, 5, 3, 5, 4],\n",
        "    \"Aparelhos de Treino\": [\"Esteira\", \"Bicicleta\", \"Pesos\", \"Máquina de Remo\", \"Elíptico\", \"Step\", \"Leg Press\", \"Supino\", \"Crossover\", \"Agachamento\", \"Lat Pulldown\", \"Puxada\", \"Smith Machine\", \"Abdutor\", \"Adutor\"],\n",
        "    \"Personal Trainer\": [\"Ana Lima\", \"Carlos Souza\", \"Maria Oliveira\", \"Pedro Fernandes\", \"Luciana Costa\", \"Ana Lima\", \"Carlos Souza\", \"Maria Oliveira\", \"Pedro Fernandes\", \"Luciana Costa\", \"Ana Lima\", \"Carlos Souza\", \"Maria Oliveira\", \"Pedro Fernandes\", \"Luciana Costa\"],\n",
        "    \"Nome do Aluno\": [\"João Pereira\", \"Mariana Silva\", \"Carlos Souza\", \"Amanda Lima\", \"Lucas Costa\", \"Ana Paula\", \"Ricardo Mendes\", \"Julia Santana\", \"Marcos Teixeira\", \"Laura Ribeiro\", \"Pedro Henrique\", \"Bianca Oliveira\", \"Felipe Almeida\", \"Carla Monteiro\", \"Bruno Martins\"],\n",
        "    \"Localidade\": [\"São Paulo\", \"Rio de Janeiro\", \"Belo Horizonte\", \"Porto Alegre\", \"Brasília\", \"Curitiba\", \"Recife\", \"Salvador\", \"Fortaleza\", \"Manaus\", \"Florianópolis\", \"Goiânia\", \"Natal\", \"Belém\", \"Campinas\"],\n",
        "    \"Horário de Funcionamento\": [\"06:00-22:00\", \"06:00-22:00\", \"06:00-22:00\", \"06:00-22:00\", \"06:00-22:00\", \"06:00-22:00\", \"06:00-22:00\", \"06:00-22:00\", \"06:00-22:00\", \"06:00-22:00\", \"06:00-22:00\", \"06:00-22:00\", \"06:00-22:00\", \"06:00-22:00\", \"06:00-22:00\"],\n",
        "    \"Percentual de Gordura (%)\": [18, 20, 15, 22, 17, 16, 19, 21, 20, 18, 17, 23, 24, 25, 19],\n",
        "    \"Peso (kg)\": [70, 65, 80, 75, 68, 72, 74, 66, 73, 71, 69, 78, 82, 85, 76],\n",
        "    \"Altura (cm)\": [175, 168, 180, 165, 178, 170, 172, 160, 173, 174, 169, 182, 185, 188, 176],\n",
        "    \"Feedback\": [\"Excelente\", \"Bom\", \"Excelente\", \"Regular\", \"Bom\", \"Bom\", \"Excelente\", \"Excelente\", \"Regular\", \"Bom\", \"Bom\", \"Excelente\", \"Regular\", \"Excelente\", \"Bom\"],\n",
        "    \"Faixa Etária Mínima (anos)\": [16]*15,\n",
        "    \"Email do Aluno\": [\"joao@example.com\", \"mariana@example.com\", \"carlos@example.com\", \"amanda@example.com\", \"lucas@example.com\", \"ana@example.com\", \"ricardo@example.com\", \"julia@example.com\", \"marcos@example.com\", \"laura@example.com\", \"pedro@example.com\", \"bianca@example.com\", \"felipe@example.com\", \"carla@example.com\", \"bruno@example.com\"],\n",
        "    \"Telefone do Aluno\": [\"(11) 99999-0001\", \"(21) 99999-0002\", \"(31) 99999-0003\", \"(51) 99999-0004\", \"(61) 99999-0005\", \"(41) 99999-0006\", \"(81) 99999-0007\", \"(71) 99999-0008\", \"(85) 99999-0009\", \"(92) 99999-0010\", \"(48) 99999-0011\", \"(62) 99999-0012\", \"(84) 99999-0013\", \"(91) 99999-0014\", \"(19) 99999-0015\"],\n",
        "    \"Idade\": [25, 30, 28, 24, 35, 22, 27, 26, 29, 31, 23, 34, 32, 33, 28]\n",
        "}\n",
        "\n",
        "import matplotlib.pyplot as plt\n",
        "\n",
        "# Dados de exemplo sobre a frequência de pessoas na academia\n",
        "dias = ['Segunda', 'Terça', 'Quarta', 'Quinta', 'Sexta', 'Sábado', 'Domingo']\n",
        "frequencia = [50, 60, 55, 70, 65, 80, 40]\n",
        "\n",
        "# Criando o gráfico\n",
        "plt.figure(figsize=(10, 6))\n",
        "plt.bar(dias, frequencia, color='blue')\n",
        "\n",
        "# Adicionando título e rótulos\n",
        "plt.title('Frequência de Pessoas na Academia')\n",
        "plt.xlabel('Dias da Semana')\n",
        "plt.ylabel('Número de Pessoas')\n",
        "\n",
        "# Exibindo o gráfico\n",
        "plt.show()\n",
        "\n",
        "df = pd.DataFrame(dados)\n",
        "print(df)"
      ],
      "metadata": {
        "id": "zhFL-DLJAVeF",
        "outputId": "07b877b4-2b67-4681-81c8-2336c2add81a",
        "colab": {
          "base_uri": "https://localhost:8080/",
          "height": 1000
        }
      },
      "execution_count": null,
      "outputs": [
        {
          "output_type": "display_data",
          "data": {
            "text/plain": [
              "<Figure size 1000x600 with 1 Axes>"
            ],
            "image/png": "[encoded data removed]"
          },
          "metadata": {}
        },
        {
          "output_type": "stream",
          "name": "stdout",
          "text": [
            "   Data de Check-in  Avaliação Aparelhos de Treino Personal Trainer  \\\n",
            "0        2025-01-01          5             Esteira         Ana Lima   \n",
            "1        2025-01-02          4           Bicicleta     Carlos Souza   \n",
            "2        2025-01-03          5               Pesos   Maria Oliveira   \n",
            "3        2025-01-04          3     Máquina de Remo  Pedro Fernandes   \n",
            "4        2025-01-05          4            Elíptico    Luciana Costa   \n",
            "5        2025-01-06          4                Step         Ana Lima   \n",
            "6        2025-01-07          5           Leg Press     Carlos Souza   \n",
            "7        2025-01-08          5              Supino   Maria Oliveira   \n",
            "8        2025-01-09          3           Crossover  Pedro Fernandes   \n",
            "9        2025-01-10          4         Agachamento    Luciana Costa   \n",
            "10       2025-01-11          4        Lat Pulldown         Ana Lima   \n",
            "11       2025-01-12          5              Puxada     Carlos Souza   \n",
            "12       2025-01-13          3       Smith Machine   Maria Oliveira   \n",
            "13       2025-01-14          5             Abdutor  Pedro Fernandes   \n",
            "14       2025-01-15          4              Adutor    Luciana Costa   \n",
            "\n",
            "      Nome do Aluno      Localidade Horário de Funcionamento  \\\n",
            "0      João Pereira       São Paulo              06:00-22:00   \n",
            "1     Mariana Silva  Rio de Janeiro              06:00-22:00   \n",
            "2      Carlos Souza  Belo Horizonte              06:00-22:00   \n",
            "3       Amanda Lima    Porto Alegre              06:00-22:00   \n",
            "4       Lucas Costa        Brasília              06:00-22:00   \n",
            "5         Ana Paula        Curitiba              06:00-22:00   \n",
            "6    Ricardo Mendes          Recife              06:00-22:00   \n",
            "7     Julia Santana        Salvador              06:00-22:00   \n",
            "8   Marcos Teixeira       Fortaleza              06:00-22:00   \n",
            "9     Laura Ribeiro          Manaus              06:00-22:00   \n",
            "10   Pedro Henrique   Florianópolis              06:00-22:00   \n",
            "11  Bianca Oliveira         Goiânia              06:00-22:00   \n",
            "12   Felipe Almeida           Natal              06:00-22:00   \n",
            "13   Carla Monteiro           Belém              06:00-22:00   \n",
            "14    Bruno Martins        Campinas              06:00-22:00   \n",
            "\n",
            "    Percentual de Gordura (%)  Peso (kg)  Altura (cm)   Feedback  \\\n",
            "0                          18         70          175  Excelente   \n",
            "1                          20         65          168        Bom   \n",
            "2                          15         80          180  Excelente   \n",
            "3                          22         75          165    Regular   \n",
            "4                          17         68          178        Bom   \n",
            "5                          16         72          170        Bom   \n",
            "6                          19         74          172  Excelente   \n",
            "7                          21         66          160  Excelente   \n",
            "8                          20         73          173    Regular   \n",
            "9                          18         71          174        Bom   \n",
            "10                         17         69          169        Bom   \n",
            "11                         23         78          182  Excelente   \n",
            "12                         24         82          185    Regular   \n",
            "13                         25         85          188  Excelente   \n",
            "14                         19         76          176        Bom   \n",
            "\n",
            "    Faixa Etária Mínima (anos)       Email do Aluno Telefone do Aluno  Idade  \n",
            "0                           16     joao@example.com   (11) 99999-0001     25  \n",
            "1                           16  mariana@example.com   (21) 99999-0002     30  \n",
            "2                           16   carlos@example.com   (31) 99999-0003     28  \n",
            "3                           16   amanda@example.com   (51) 99999-0004     24  \n",
            "4                           16    lucas@example.com   (61) 99999-0005     35  \n",
            "5                           16      ana@example.com   (41) 99999-0006     22  \n",
            "6                           16  ricardo@example.com   (81) 99999-0007     27  \n",
            "7                           16    julia@example.com   (71) 99999-0008     26  \n",
            "8                           16   marcos@example.com   (85) 99999-0009     29  \n",
            "9                           16    laura@example.com   (92) 99999-0010     31  \n",
            "10                          16    pedro@example.com   (48) 99999-0011     23  \n",
            "11                          16   bianca@example.com   (62) 99999-0012     34  \n",
            "12                          16   felipe@example.com   (84) 99999-0013     32  \n",
            "13                          16    carla@example.com   (91) 99999-0014     33  \n",
            "14                          16    bruno@example.com   (19) 99999-0015     28  \n"
          ]
        }
      ]
    },
    {
      "cell_type": "code",
      "source": [
        "#Tamanho\n",
        "\n",
        "print(\"2) Tamanho do dataframe:\")\n",
        "print(df.shape)\n"
      ],
      "metadata": {
        "colab": {
          "base_uri": "https://localhost:8080/"
        },
        "id": "l29PI1dbNDYw",
        "outputId": "fa24a57d-c8dd-4371-ae7a-f84f35894b31"
      },
      "execution_count": null,
      "outputs": [
        {
          "output_type": "stream",
          "name": "stdout",
          "text": [
            "2) Tamanho do dataframe:\n",
            "(15, 15)\n"
          ]
        }
      ]
    },
    {
      "cell_type": "code",
      "source": [
        "#Output\n",
        "\n",
        "print(\"1) Base de dados completa:\")\n",
        "print(df)\n"
      ],
      "metadata": {
        "colab": {
          "base_uri": "https://localhost:8080/"
        },
        "id": "S2b_3Ge0NIPf",
        "outputId": "82537fb0-da32-4939-d83a-c6d7ed07ae8c"
      },
      "execution_count": null,
      "outputs": [
        {
          "output_type": "stream",
          "name": "stdout",
          "text": [
            "1) Base de dados completa:\n",
            "   Data de Check-in  Avaliação Aparelhos de Treino Personal Trainer  \\\n",
            "0        2025-01-01          5             Esteira         Ana Lima   \n",
            "1        2025-01-02          4           Bicicleta     Carlos Souza   \n",
            "2        2025-01-03          5               Pesos   Maria Oliveira   \n",
            "3        2025-01-04          3     Máquina de Remo  Pedro Fernandes   \n",
            "4        2025-01-05          4            Elíptico    Luciana Costa   \n",
            "5        2025-01-06          4                Step         Ana Lima   \n",
            "6        2025-01-07          5           Leg Press     Carlos Souza   \n",
            "7        2025-01-08          5              Supino   Maria Oliveira   \n",
            "8        2025-01-09          3           Crossover  Pedro Fernandes   \n",
            "9        2025-01-10          4         Agachamento    Luciana Costa   \n",
            "10       2025-01-11          4        Lat Pulldown         Ana Lima   \n",
            "11       2025-01-12          5              Puxada     Carlos Souza   \n",
            "12       2025-01-13          3       Smith Machine   Maria Oliveira   \n",
            "13       2025-01-14          5             Abdutor  Pedro Fernandes   \n",
            "14       2025-01-15          4              Adutor    Luciana Costa   \n",
            "\n",
            "      Nome do Aluno      Localidade Horário de Funcionamento  \\\n",
            "0      João Pereira       São Paulo              06:00-22:00   \n",
            "1     Mariana Silva  Rio de Janeiro              06:00-22:00   \n",
            "2      Carlos Souza  Belo Horizonte              06:00-22:00   \n",
            "3       Amanda Lima    Porto Alegre              06:00-22:00   \n",
            "4       Lucas Costa        Brasília              06:00-22:00   \n",
            "5         Ana Paula        Curitiba              06:00-22:00   \n",
            "6    Ricardo Mendes          Recife              06:00-22:00   \n",
            "7     Julia Santana        Salvador              06:00-22:00   \n",
            "8   Marcos Teixeira       Fortaleza              06:00-22:00   \n",
            "9     Laura Ribeiro          Manaus              06:00-22:00   \n",
            "10   Pedro Henrique   Florianópolis              06:00-22:00   \n",
            "11  Bianca Oliveira         Goiânia              06:00-22:00   \n",
            "12   Felipe Almeida           Natal              06:00-22:00   \n",
            "13   Carla Monteiro           Belém              06:00-22:00   \n",
            "14    Bruno Martins        Campinas              06:00-22:00   \n",
            "\n",
            "    Percentual de Gordura (%)  Peso (kg)  Altura (cm)   Feedback  \\\n",
            "0                          18         70          175  Excelente   \n",
            "1                          20         65          168        Bom   \n",
            "2                          15         80          180  Excelente   \n",
            "3                          22         75          165    Regular   \n",
            "4                          17         68          178        Bom   \n",
            "5                          16         72          170        Bom   \n",
            "6                          19         74          172  Excelente   \n",
            "7                          21         66          160  Excelente   \n",
            "8                          20         73          173    Regular   \n",
            "9                          18         71          174        Bom   \n",
            "10                         17         69          169        Bom   \n",
            "11                         23         78          182  Excelente   \n",
            "12                         24         82          185    Regular   \n",
            "13                         25         85          188  Excelente   \n",
            "14                         19         76          176        Bom   \n",
            "\n",
            "    Faixa Etária Mínima (anos)       Email do Aluno Telefone do Aluno  Idade  \n",
            "0                           16     joao@example.com   (11) 99999-0001     25  \n",
            "1                           16  mariana@example.com   (21) 99999-0002     30  \n",
            "2                           16   carlos@example.com   (31) 99999-0003     28  \n",
            "3                           16   amanda@example.com   (51) 99999-0004     24  \n",
            "4                           16    lucas@example.com   (61) 99999-0005     35  \n",
            "5                           16      ana@example.com   (41) 99999-0006     22  \n",
            "6                           16  ricardo@example.com   (81) 99999-0007     27  \n",
            "7                           16    julia@example.com   (71) 99999-0008     26  \n",
            "8                           16   marcos@example.com   (85) 99999-0009     29  \n",
            "9                           16    laura@example.com   (92) 99999-0010     31  \n",
            "10                          16    pedro@example.com   (48) 99999-0011     23  \n",
            "11                          16   bianca@example.com   (62) 99999-0012     34  \n",
            "12                          16   felipe@example.com   (84) 99999-0013     32  \n",
            "13                          16    carla@example.com   (91) 99999-0014     33  \n",
            "14                          16    bruno@example.com   (19) 99999-0015     28  \n"
          ]
        }
      ]
    },
    {
      "cell_type": "code",
      "source": [
        "#Substituir valor da linha\n",
        "\n",
        "import pandas as pd\n",
        "\n",
        "# Dados fictícios\n",
        "\n",
        "print(f\"3) Características da linha {1}:\")\n",
        "print(df.loc[3])\n"
      ],
      "metadata": {
        "colab": {
          "base_uri": "https://localhost:8080/"
        },
        "id": "5MK5CG07Npnr",
        "outputId": "7278f503-2f50-466b-ffdf-92dd3a597bd8"
      },
      "execution_count": null,
      "outputs": [
        {
          "output_type": "stream",
          "name": "stdout",
          "text": [
            "3) Características da linha 1:\n",
            "Data de Check-in              2025-01-04 00:00:00\n",
            "Avaliação                                       3\n",
            "Aparelhos de Treino               Máquina de Remo\n",
            "Personal Trainer                  Pedro Fernandes\n",
            "Nome do Aluno                         Amanda Lima\n",
            "Localidade                           Porto Alegre\n",
            "Horário de Funcionamento              06:00-22:00\n",
            "Percentual de Gordura (%)                      22\n",
            "Peso (kg)                                      75\n",
            "Altura (cm)                                   165\n",
            "Feedback                                  Regular\n",
            "Faixa Etária Mínima (anos)                     16\n",
            "Email do Aluno                 amanda@example.com\n",
            "Telefone do Aluno                 (51) 99999-0004\n",
            "Idade                                          24\n",
            "Name: 3, dtype: object\n"
          ]
        }
      ]
    },
    {
      "cell_type": "code",
      "source": [
        "#Data frame vazio?\n",
        "\n",
        "print(\"4) Verificação se o dataframe está vazio:\")\n",
        "if df.empty:\n",
        "    print(\"O dataframe está vazio.\")\n",
        "else:\n",
        "    print(\"O dataframe não está vazio.\")"
      ],
      "metadata": {
        "colab": {
          "base_uri": "https://localhost:8080/"
        },
        "id": "zJlNVW3GN63i",
        "outputId": "18d642b5-e7b2-47f4-88ae-99502c9f55e0"
      },
      "execution_count": null,
      "outputs": [
        {
          "output_type": "stream",
          "name": "stdout",
          "text": [
            "4) Verificação se o dataframe está vazio:\n",
            "O dataframe não está vazio.\n"
          ]
        }
      ]
    },
    {
      "cell_type": "code",
      "source": [
        "#Registro da Base\n",
        "\n",
        "print(\"5) Primeiros 5 registros:\")\n",
        "print(df.head(5))"
      ],
      "metadata": {
        "colab": {
          "base_uri": "https://localhost:8080/"
        },
        "id": "JzGY4mrIONdD",
        "outputId": "92ab316e-4531-40bb-ccbe-d6bdb484fb67"
      },
      "execution_count": null,
      "outputs": [
        {
          "output_type": "stream",
          "name": "stdout",
          "text": [
            "5) Primeiros 5 registros:\n",
            "  Data de Check-in  Avaliação Aparelhos de Treino Personal Trainer  \\\n",
            "0       2025-01-01          5             Esteira         Ana Lima   \n",
            "1       2025-01-02          4           Bicicleta     Carlos Souza   \n",
            "2       2025-01-03          5               Pesos   Maria Oliveira   \n",
            "3       2025-01-04          3     Máquina de Remo  Pedro Fernandes   \n",
            "4       2025-01-05          4            Elíptico    Luciana Costa   \n",
            "\n",
            "   Nome do Aluno      Localidade Horário de Funcionamento  \\\n",
            "0   João Pereira       São Paulo              06:00-22:00   \n",
            "1  Mariana Silva  Rio de Janeiro              06:00-22:00   \n",
            "2   Carlos Souza  Belo Horizonte              06:00-22:00   \n",
            "3    Amanda Lima    Porto Alegre              06:00-22:00   \n",
            "4    Lucas Costa        Brasília              06:00-22:00   \n",
            "\n",
            "   Percentual de Gordura (%)  Peso (kg)  Altura (cm)   Feedback  \\\n",
            "0                         18         70          175  Excelente   \n",
            "1                         20         65          168        Bom   \n",
            "2                         15         80          180  Excelente   \n",
            "3                         22         75          165    Regular   \n",
            "4                         17         68          178        Bom   \n",
            "\n",
            "   Faixa Etária Mínima (anos)       Email do Aluno Telefone do Aluno  Idade  \n",
            "0                          16     joao@example.com   (11) 99999-0001     25  \n",
            "1                          16  mariana@example.com   (21) 99999-0002     30  \n",
            "2                          16   carlos@example.com   (31) 99999-0003     28  \n",
            "3                          16   amanda@example.com   (51) 99999-0004     24  \n",
            "4                          16    lucas@example.com   (61) 99999-0005     35  \n"
          ]
        }
      ]
    },
    {
      "cell_type": "code",
      "source": [
        "#Dropar\n",
        "\n",
        "df = df.drop(x)"
      ],
      "metadata": {
        "colab": {
          "base_uri": "https://localhost:8080/",
          "height": 176
        },
        "id": "NMgzcqNbOYzB",
        "outputId": "323e9724-f1f9-417e-b395-ab23cbd7901d"
      },
      "execution_count": null,
      "outputs": [
        {
          "output_type": "error",
          "ename": "NameError",
          "evalue": "name 'x' is not defined",
          "traceback": [
            "\u001b[0;31m---------------------------------------------------------------------------\u001b[0m",
            "\u001b[0;31mNameError\u001b[0m                                 Traceback (most recent call last)",
            "\u001b[0;32m<ipython-input-23-0696568d6d15>\u001b[0m in \u001b[0;36m<cell line: 0>\u001b[0;34m()\u001b[0m\n\u001b[1;32m      1\u001b[0m \u001b[0;31m#Dropar\u001b[0m\u001b[0;34m\u001b[0m\u001b[0;34m\u001b[0m\u001b[0m\n\u001b[1;32m      2\u001b[0m \u001b[0;34m\u001b[0m\u001b[0m\n\u001b[0;32m----> 3\u001b[0;31m \u001b[0mdf\u001b[0m \u001b[0;34m=\u001b[0m \u001b[0mdf\u001b[0m\u001b[0;34m.\u001b[0m\u001b[0mdrop\u001b[0m\u001b[0;34m(\u001b[0m\u001b[0mx\u001b[0m\u001b[0;34m)\u001b[0m\u001b[0;34m\u001b[0m\u001b[0;34m\u001b[0m\u001b[0m\n\u001b[0m",
            "\u001b[0;31mNameError\u001b[0m: name 'x' is not defined"
          ]
        }
      ]
    },
    {
      "cell_type": "code",
      "source": [
        "#Adicionar\n",
        "\n",
        "dados = [1, 2, 3]\n",
        "df.loc[len(df)] = dados\n"
      ],
      "metadata": {
        "colab": {
          "base_uri": "https://localhost:8080/",
          "height": 408
        },
        "id": "GbzsN-z6OpPn",
        "outputId": "95ae2e1a-c38e-4859-f71f-9b433dc0066c"
      },
      "execution_count": null,
      "outputs": [
        {
          "output_type": "error",
          "ename": "ValueError",
          "evalue": "setting an array element with a sequence.",
          "traceback": [
            "\u001b[0;31m---------------------------------------------------------------------------\u001b[0m",
            "\u001b[0;31mValueError\u001b[0m                                Traceback (most recent call last)",
            "\u001b[0;32m/usr/local/lib/python3.11/dist-packages/pandas/core/internals/blocks.py\u001b[0m in \u001b[0;36msetitem\u001b[0;34m(self, indexer, value, using_cow)\u001b[0m\n\u001b[1;32m   1428\u001b[0m             \u001b[0;32mtry\u001b[0m\u001b[0;34m:\u001b[0m\u001b[0;34m\u001b[0m\u001b[0;34m\u001b[0m\u001b[0m\n\u001b[0;32m-> 1429\u001b[0;31m                 \u001b[0mvalues\u001b[0m\u001b[0;34m[\u001b[0m\u001b[0mindexer\u001b[0m\u001b[0;34m]\u001b[0m \u001b[0;34m=\u001b[0m \u001b[0mcasted\u001b[0m\u001b[0;34m\u001b[0m\u001b[0;34m\u001b[0m\u001b[0m\n\u001b[0m\u001b[1;32m   1430\u001b[0m             \u001b[0;32mexcept\u001b[0m \u001b[0;34m(\u001b[0m\u001b[0mTypeError\u001b[0m\u001b[0;34m,\u001b[0m \u001b[0mValueError\u001b[0m\u001b[0;34m)\u001b[0m \u001b[0;32mas\u001b[0m \u001b[0merr\u001b[0m\u001b[0;34m:\u001b[0m\u001b[0;34m\u001b[0m\u001b[0;34m\u001b[0m\u001b[0m\n",
            "\u001b[0;31mValueError\u001b[0m: could not broadcast input array from shape (3,) into shape (15,)",
            "\nThe above exception was the direct cause of the following exception:\n",
            "\u001b[0;31mValueError\u001b[0m                                Traceback (most recent call last)",
            "\u001b[0;32m<ipython-input-22-2f06cfb186f9>\u001b[0m in \u001b[0;36m<cell line: 0>\u001b[0;34m()\u001b[0m\n\u001b[1;32m      2\u001b[0m \u001b[0;34m\u001b[0m\u001b[0m\n\u001b[1;32m      3\u001b[0m \u001b[0mdados\u001b[0m \u001b[0;34m=\u001b[0m \u001b[0;34m[\u001b[0m\u001b[0;36m1\u001b[0m\u001b[0;34m,\u001b[0m \u001b[0;36m2\u001b[0m\u001b[0;34m,\u001b[0m \u001b[0;36m3\u001b[0m\u001b[0;34m]\u001b[0m\u001b[0;34m\u001b[0m\u001b[0;34m\u001b[0m\u001b[0m\n\u001b[0;32m----> 4\u001b[0;31m \u001b[0mdf\u001b[0m\u001b[0;34m.\u001b[0m\u001b[0mloc\u001b[0m\u001b[0;34m[\u001b[0m\u001b[0mlen\u001b[0m\u001b[0;34m(\u001b[0m\u001b[0mdf\u001b[0m\u001b[0;34m)\u001b[0m\u001b[0;34m]\u001b[0m \u001b[0;34m=\u001b[0m \u001b[0mdados\u001b[0m\u001b[0;34m\u001b[0m\u001b[0;34m\u001b[0m\u001b[0m\n\u001b[0m",
            "\u001b[0;32m/usr/local/lib/python3.11/dist-packages/pandas/core/indexing.py\u001b[0m in \u001b[0;36m__setitem__\u001b[0;34m(self, key, value)\u001b[0m\n\u001b[1;32m    909\u001b[0m \u001b[0;34m\u001b[0m\u001b[0m\n\u001b[1;32m    910\u001b[0m         \u001b[0miloc\u001b[0m \u001b[0;34m=\u001b[0m \u001b[0mself\u001b[0m \u001b[0;32mif\u001b[0m \u001b[0mself\u001b[0m\u001b[0;34m.\u001b[0m\u001b[0mname\u001b[0m \u001b[0;34m==\u001b[0m \u001b[0;34m\"iloc\"\u001b[0m \u001b[0;32melse\u001b[0m \u001b[0mself\u001b[0m\u001b[0;34m.\u001b[0m\u001b[0mobj\u001b[0m\u001b[0;34m.\u001b[0m\u001b[0miloc\u001b[0m\u001b[0;34m\u001b[0m\u001b[0;34m\u001b[0m\u001b[0m\n\u001b[0;32m--> 911\u001b[0;31m         \u001b[0miloc\u001b[0m\u001b[0;34m.\u001b[0m\u001b[0m_setitem_with_indexer\u001b[0m\u001b[0;34m(\u001b[0m\u001b[0mindexer\u001b[0m\u001b[0;34m,\u001b[0m \u001b[0mvalue\u001b[0m\u001b[0;34m,\u001b[0m \u001b[0mself\u001b[0m\u001b[0;34m.\u001b[0m\u001b[0mname\u001b[0m\u001b[0;34m)\u001b[0m\u001b[0;34m\u001b[0m\u001b[0;34m\u001b[0m\u001b[0m\n\u001b[0m\u001b[1;32m    912\u001b[0m \u001b[0;34m\u001b[0m\u001b[0m\n\u001b[1;32m    913\u001b[0m     \u001b[0;32mdef\u001b[0m \u001b[0m_validate_key\u001b[0m\u001b[0;34m(\u001b[0m\u001b[0mself\u001b[0m\u001b[0;34m,\u001b[0m \u001b[0mkey\u001b[0m\u001b[0;34m,\u001b[0m \u001b[0maxis\u001b[0m\u001b[0;34m:\u001b[0m \u001b[0mAxisInt\u001b[0m\u001b[0;34m)\u001b[0m\u001b[0;34m:\u001b[0m\u001b[0;34m\u001b[0m\u001b[0;34m\u001b[0m\u001b[0m\n",
            "\u001b[0;32m/usr/local/lib/python3.11/dist-packages/pandas/core/indexing.py\u001b[0m in \u001b[0;36m_setitem_with_indexer\u001b[0;34m(self, indexer, value, name)\u001b[0m\n\u001b[1;32m   1942\u001b[0m             \u001b[0mself\u001b[0m\u001b[0;34m.\u001b[0m\u001b[0m_setitem_with_indexer_split_path\u001b[0m\u001b[0;34m(\u001b[0m\u001b[0mindexer\u001b[0m\u001b[0;34m,\u001b[0m \u001b[0mvalue\u001b[0m\u001b[0;34m,\u001b[0m \u001b[0mname\u001b[0m\u001b[0;34m)\u001b[0m\u001b[0;34m\u001b[0m\u001b[0;34m\u001b[0m\u001b[0m\n\u001b[1;32m   1943\u001b[0m         \u001b[0;32melse\u001b[0m\u001b[0;34m:\u001b[0m\u001b[0;34m\u001b[0m\u001b[0;34m\u001b[0m\u001b[0m\n\u001b[0;32m-> 1944\u001b[0;31m             \u001b[0mself\u001b[0m\u001b[0;34m.\u001b[0m\u001b[0m_setitem_single_block\u001b[0m\u001b[0;34m(\u001b[0m\u001b[0mindexer\u001b[0m\u001b[0;34m,\u001b[0m \u001b[0mvalue\u001b[0m\u001b[0;34m,\u001b[0m \u001b[0mname\u001b[0m\u001b[0;34m)\u001b[0m\u001b[0;34m\u001b[0m\u001b[0;34m\u001b[0m\u001b[0m\n\u001b[0m\u001b[1;32m   1945\u001b[0m \u001b[0;34m\u001b[0m\u001b[0m\n\u001b[1;32m   1946\u001b[0m     \u001b[0;32mdef\u001b[0m \u001b[0m_setitem_with_indexer_split_path\u001b[0m\u001b[0;34m(\u001b[0m\u001b[0mself\u001b[0m\u001b[0;34m,\u001b[0m \u001b[0mindexer\u001b[0m\u001b[0;34m,\u001b[0m \u001b[0mvalue\u001b[0m\u001b[0;34m,\u001b[0m \u001b[0mname\u001b[0m\u001b[0;34m:\u001b[0m \u001b[0mstr\u001b[0m\u001b[0;34m)\u001b[0m\u001b[0;34m:\u001b[0m\u001b[0;34m\u001b[0m\u001b[0;34m\u001b[0m\u001b[0m\n",
            "\u001b[0;32m/usr/local/lib/python3.11/dist-packages/pandas/core/indexing.py\u001b[0m in \u001b[0;36m_setitem_single_block\u001b[0;34m(self, indexer, value, name)\u001b[0m\n\u001b[1;32m   2216\u001b[0m \u001b[0;34m\u001b[0m\u001b[0m\n\u001b[1;32m   2217\u001b[0m         \u001b[0;31m# actually do the set\u001b[0m\u001b[0;34m\u001b[0m\u001b[0;34m\u001b[0m\u001b[0m\n\u001b[0;32m-> 2218\u001b[0;31m         \u001b[0mself\u001b[0m\u001b[0;34m.\u001b[0m\u001b[0mobj\u001b[0m\u001b[0;34m.\u001b[0m\u001b[0m_mgr\u001b[0m \u001b[0;34m=\u001b[0m \u001b[0mself\u001b[0m\u001b[0;34m.\u001b[0m\u001b[0mobj\u001b[0m\u001b[0;34m.\u001b[0m\u001b[0m_mgr\u001b[0m\u001b[0;34m.\u001b[0m\u001b[0msetitem\u001b[0m\u001b[0;34m(\u001b[0m\u001b[0mindexer\u001b[0m\u001b[0;34m=\u001b[0m\u001b[0mindexer\u001b[0m\u001b[0;34m,\u001b[0m \u001b[0mvalue\u001b[0m\u001b[0;34m=\u001b[0m\u001b[0mvalue\u001b[0m\u001b[0;34m)\u001b[0m\u001b[0;34m\u001b[0m\u001b[0;34m\u001b[0m\u001b[0m\n\u001b[0m\u001b[1;32m   2219\u001b[0m         \u001b[0mself\u001b[0m\u001b[0;34m.\u001b[0m\u001b[0mobj\u001b[0m\u001b[0;34m.\u001b[0m\u001b[0m_maybe_update_cacher\u001b[0m\u001b[0;34m(\u001b[0m\u001b[0mclear\u001b[0m\u001b[0;34m=\u001b[0m\u001b[0;32mTrue\u001b[0m\u001b[0;34m,\u001b[0m \u001b[0minplace\u001b[0m\u001b[0;34m=\u001b[0m\u001b[0;32mTrue\u001b[0m\u001b[0;34m)\u001b[0m\u001b[0;34m\u001b[0m\u001b[0;34m\u001b[0m\u001b[0m\n\u001b[1;32m   2220\u001b[0m \u001b[0;34m\u001b[0m\u001b[0m\n",
            "\u001b[0;32m/usr/local/lib/python3.11/dist-packages/pandas/core/internals/managers.py\u001b[0m in \u001b[0;36msetitem\u001b[0;34m(self, indexer, value, warn)\u001b[0m\n\u001b[1;32m    413\u001b[0m             \u001b[0mself\u001b[0m \u001b[0;34m=\u001b[0m \u001b[0mself\u001b[0m\u001b[0;34m.\u001b[0m\u001b[0mcopy\u001b[0m\u001b[0;34m(\u001b[0m\u001b[0;34m)\u001b[0m\u001b[0;34m\u001b[0m\u001b[0;34m\u001b[0m\u001b[0m\n\u001b[1;32m    414\u001b[0m \u001b[0;34m\u001b[0m\u001b[0m\n\u001b[0;32m--> 415\u001b[0;31m         \u001b[0;32mreturn\u001b[0m \u001b[0mself\u001b[0m\u001b[0;34m.\u001b[0m\u001b[0mapply\u001b[0m\u001b[0;34m(\u001b[0m\u001b[0;34m\"setitem\"\u001b[0m\u001b[0;34m,\u001b[0m \u001b[0mindexer\u001b[0m\u001b[0;34m=\u001b[0m\u001b[0mindexer\u001b[0m\u001b[0;34m,\u001b[0m \u001b[0mvalue\u001b[0m\u001b[0;34m=\u001b[0m\u001b[0mvalue\u001b[0m\u001b[0;34m)\u001b[0m\u001b[0;34m\u001b[0m\u001b[0;34m\u001b[0m\u001b[0m\n\u001b[0m\u001b[1;32m    416\u001b[0m \u001b[0;34m\u001b[0m\u001b[0m\n\u001b[1;32m    417\u001b[0m     \u001b[0;32mdef\u001b[0m \u001b[0mdiff\u001b[0m\u001b[0;34m(\u001b[0m\u001b[0mself\u001b[0m\u001b[0;34m,\u001b[0m \u001b[0mn\u001b[0m\u001b[0;34m:\u001b[0m \u001b[0mint\u001b[0m\u001b[0;34m)\u001b[0m \u001b[0;34m->\u001b[0m \u001b[0mSelf\u001b[0m\u001b[0;34m:\u001b[0m\u001b[0;34m\u001b[0m\u001b[0;34m\u001b[0m\u001b[0m\n",
            "\u001b[0;32m/usr/local/lib/python3.11/dist-packages/pandas/core/internals/managers.py\u001b[0m in \u001b[0;36mapply\u001b[0;34m(self, f, align_keys, **kwargs)\u001b[0m\n\u001b[1;32m    361\u001b[0m                 \u001b[0mapplied\u001b[0m \u001b[0;34m=\u001b[0m \u001b[0mb\u001b[0m\u001b[0;34m.\u001b[0m\u001b[0mapply\u001b[0m\u001b[0;34m(\u001b[0m\u001b[0mf\u001b[0m\u001b[0;34m,\u001b[0m \u001b[0;34m**\u001b[0m\u001b[0mkwargs\u001b[0m\u001b[0;34m)\u001b[0m\u001b[0;34m\u001b[0m\u001b[0;34m\u001b[0m\u001b[0m\n\u001b[1;32m    362\u001b[0m             \u001b[0;32melse\u001b[0m\u001b[0;34m:\u001b[0m\u001b[0;34m\u001b[0m\u001b[0;34m\u001b[0m\u001b[0m\n\u001b[0;32m--> 363\u001b[0;31m                 \u001b[0mapplied\u001b[0m \u001b[0;34m=\u001b[0m \u001b[0mgetattr\u001b[0m\u001b[0;34m(\u001b[0m\u001b[0mb\u001b[0m\u001b[0;34m,\u001b[0m \u001b[0mf\u001b[0m\u001b[0;34m)\u001b[0m\u001b[0;34m(\u001b[0m\u001b[0;34m**\u001b[0m\u001b[0mkwargs\u001b[0m\u001b[0;34m)\u001b[0m\u001b[0;34m\u001b[0m\u001b[0;34m\u001b[0m\u001b[0m\n\u001b[0m\u001b[1;32m    364\u001b[0m             \u001b[0mresult_blocks\u001b[0m \u001b[0;34m=\u001b[0m \u001b[0mextend_blocks\u001b[0m\u001b[0;34m(\u001b[0m\u001b[0mapplied\u001b[0m\u001b[0;34m,\u001b[0m \u001b[0mresult_blocks\u001b[0m\u001b[0;34m)\u001b[0m\u001b[0;34m\u001b[0m\u001b[0;34m\u001b[0m\u001b[0m\n\u001b[1;32m    365\u001b[0m \u001b[0;34m\u001b[0m\u001b[0m\n",
            "\u001b[0;32m/usr/local/lib/python3.11/dist-packages/pandas/core/internals/blocks.py\u001b[0m in \u001b[0;36msetitem\u001b[0;34m(self, indexer, value, using_cow)\u001b[0m\n\u001b[1;32m   1430\u001b[0m             \u001b[0;32mexcept\u001b[0m \u001b[0;34m(\u001b[0m\u001b[0mTypeError\u001b[0m\u001b[0;34m,\u001b[0m \u001b[0mValueError\u001b[0m\u001b[0;34m)\u001b[0m \u001b[0;32mas\u001b[0m \u001b[0merr\u001b[0m\u001b[0;34m:\u001b[0m\u001b[0;34m\u001b[0m\u001b[0;34m\u001b[0m\u001b[0m\n\u001b[1;32m   1431\u001b[0m                 \u001b[0;32mif\u001b[0m \u001b[0mis_list_like\u001b[0m\u001b[0;34m(\u001b[0m\u001b[0mcasted\u001b[0m\u001b[0;34m)\u001b[0m\u001b[0;34m:\u001b[0m\u001b[0;34m\u001b[0m\u001b[0;34m\u001b[0m\u001b[0m\n\u001b[0;32m-> 1432\u001b[0;31m                     raise ValueError(\n\u001b[0m\u001b[1;32m   1433\u001b[0m                         \u001b[0;34m\"setting an array element with a sequence.\"\u001b[0m\u001b[0;34m\u001b[0m\u001b[0;34m\u001b[0m\u001b[0m\n\u001b[1;32m   1434\u001b[0m                     ) from err\n",
            "\u001b[0;31mValueError\u001b[0m: setting an array element with a sequence."
          ]
        }
      ]
    },
    {
      "cell_type": "code",
      "source": [
        "#Transposição\n",
        "\n",
        "df_transposed = df.T\n",
        "print(\"8) Transposição da coluna para a linha:\")\n",
        "print(df_transposed)\n",
        "df = df.transpose()\n"
      ],
      "metadata": {
        "colab": {
          "base_uri": "https://localhost:8080/"
        },
        "id": "hCdI_9HzO43O",
        "outputId": "6537aec9-2e4a-4393-f91d-644fa0534950"
      },
      "execution_count": null,
      "outputs": [
        {
          "output_type": "stream",
          "name": "stdout",
          "text": [
            "8) Transposição da coluna para a linha:\n",
            "       Data de Check-in Avaliação Aparelhos de Treino Personal Trainer  \\\n",
            "0   2025-01-01 00:00:00         5             Esteira         Ana Lima   \n",
            "2   2025-01-03 00:00:00         5               Pesos   Maria Oliveira   \n",
            "3   2025-01-04 00:00:00         3     Máquina de Remo  Pedro Fernandes   \n",
            "4   2025-01-05 00:00:00         4            Elíptico    Luciana Costa   \n",
            "6   2025-01-07 00:00:00         5           Leg Press     Carlos Souza   \n",
            "7   2025-01-08 00:00:00         5              Supino   Maria Oliveira   \n",
            "8   2025-01-09 00:00:00         3           Crossover  Pedro Fernandes   \n",
            "9   2025-01-10 00:00:00         4         Agachamento    Luciana Costa   \n",
            "10  2025-01-11 00:00:00         4        Lat Pulldown         Ana Lima   \n",
            "11  2025-01-12 00:00:00         5              Puxada     Carlos Souza   \n",
            "12  2025-01-13 00:00:00         3       Smith Machine   Maria Oliveira   \n",
            "13  2025-01-14 00:00:00         5             Abdutor  Pedro Fernandes   \n",
            "14  2025-01-15 00:00:00         4              Adutor    Luciana Costa   \n",
            "\n",
            "      Nome do Aluno      Localidade Horário de Funcionamento  \\\n",
            "0      João Pereira       São Paulo              06:00-22:00   \n",
            "2      Carlos Souza  Belo Horizonte              06:00-22:00   \n",
            "3       Amanda Lima    Porto Alegre              06:00-22:00   \n",
            "4       Lucas Costa        Brasília              06:00-22:00   \n",
            "6    Ricardo Mendes          Recife              06:00-22:00   \n",
            "7     Julia Santana        Salvador              06:00-22:00   \n",
            "8   Marcos Teixeira       Fortaleza              06:00-22:00   \n",
            "9     Laura Ribeiro          Manaus              06:00-22:00   \n",
            "10   Pedro Henrique   Florianópolis              06:00-22:00   \n",
            "11  Bianca Oliveira         Goiânia              06:00-22:00   \n",
            "12   Felipe Almeida           Natal              06:00-22:00   \n",
            "13   Carla Monteiro           Belém              06:00-22:00   \n",
            "14    Bruno Martins        Campinas              06:00-22:00   \n",
            "\n",
            "   Percentual de Gordura (%) Peso (kg) Altura (cm)   Feedback  \\\n",
            "0                         18        70         175  Excelente   \n",
            "2                         15        80         180  Excelente   \n",
            "3                         22        75         165    Regular   \n",
            "4                         17        68         178        Bom   \n",
            "6                         19        74         172  Excelente   \n",
            "7                         21        66         160  Excelente   \n",
            "8                         20        73         173    Regular   \n",
            "9                         18        71         174        Bom   \n",
            "10                        17        69         169        Bom   \n",
            "11                        23        78         182  Excelente   \n",
            "12                        24        82         185    Regular   \n",
            "13                        25        85         188  Excelente   \n",
            "14                        19        76         176        Bom   \n",
            "\n",
            "   Faixa Etária Mínima (anos)       Email do Aluno Telefone do Aluno Idade  \n",
            "0                          16     joao@example.com   (11) 99999-0001    25  \n",
            "2                          16   carlos@example.com   (31) 99999-0003    28  \n",
            "3                          16   amanda@example.com   (51) 99999-0004    24  \n",
            "4                          16    lucas@example.com   (61) 99999-0005    35  \n",
            "6                          16  ricardo@example.com   (81) 99999-0007    27  \n",
            "7                          16    julia@example.com   (71) 99999-0008    26  \n",
            "8                          16   marcos@example.com   (85) 99999-0009    29  \n",
            "9                          16    laura@example.com   (92) 99999-0010    31  \n",
            "10                         16    pedro@example.com   (48) 99999-0011    23  \n",
            "11                         16   bianca@example.com   (62) 99999-0012    34  \n",
            "12                         16   felipe@example.com   (84) 99999-0013    32  \n",
            "13                         16    carla@example.com   (91) 99999-0014    33  \n",
            "14                         16    bruno@example.com   (19) 99999-0015    28  \n"
          ]
        }
      ]
    }
  ]
}