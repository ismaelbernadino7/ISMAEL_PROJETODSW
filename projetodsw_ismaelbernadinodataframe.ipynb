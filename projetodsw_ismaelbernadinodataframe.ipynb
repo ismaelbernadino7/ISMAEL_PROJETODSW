{
  "nbformat": 4,
  "nbformat_minor": 0,
  "metadata": {
    "colab": {
      "provenance": [],
      "authorship_tag": "ABX9TyMix7vGax85ZnZkaOHyH80I",
      "include_colab_link": true
    },
    "kernelspec": {
      "name": "python3",
      "display_name": "Python 3"
    },
    "language_info": {
      "name": "python"
    }
  },
  "cells": [
    {
      "cell_type": "markdown",
      "metadata": {
        "id": "view-in-github",
        "colab_type": "text"
      },
      "source": [
        "<a href=\"https://colab.research.google.com/github/ismaelbernadino7/ISMAEL_PROJETODSW/blob/main/projetodsw_ismaelbernadinodataframe.ipynb\" target=\"_parent\"><img src=\"https://colab.research.google.com/assets/colab-badge.svg\" alt=\"Open In Colab\"/></a>"
      ]
    },
    {
      "cell_type": "code",
      "source": [
        "import pandas as pd\n",
        "\n",
        "# Dados fictícios\n",
        "dados = {\n",
        "    \"Data de Check-in\": pd.date_range(start='2025-01-01', periods=15, freq='D'),\n",
        "    \"Avaliação\": [5, 4, 5, 3, 4, 4, 5, 5, 3, 4, 4, 5, 3, 5, 4],\n",
        "    \"Aparelhos de Treino\": [\"Esteira\", \"Bicicleta\", \"Pesos\", \"Máquina de Remo\", \"Elíptico\", \"Step\", \"Leg Press\", \"Supino\", \"Crossover\", \"Agachamento\", \"Lat Pulldown\", \"Puxada\", \"Smith Machine\", \"Abdutor\", \"Adutor\"],\n",
        "    \"Personal Trainer\": [\"Ana Lima\", \"Carlos Souza\", \"Maria Oliveira\", \"Pedro Fernandes\", \"Luciana Costa\", \"Ana Lima\", \"Carlos Souza\", \"Maria Oliveira\", \"Pedro Fernandes\", \"Luciana Costa\", \"Ana Lima\", \"Carlos Souza\", \"Maria Oliveira\", \"Pedro Fernandes\", \"Luciana Costa\"],\n",
        "    \"Nome do Aluno\": [\"João Pereira\", \"Mariana Silva\", \"Carlos Souza\", \"Amanda Lima\", \"Lucas Costa\", \"Ana Paula\", \"Ricardo Mendes\", \"Julia Santana\", \"Marcos Teixeira\", \"Laura Ribeiro\", \"Pedro Henrique\", \"Bianca Oliveira\", \"Felipe Almeida\", \"Carla Monteiro\", \"Bruno Martins\"],\n",
        "    \"Localidade\": [\"São Paulo\", \"Rio de Janeiro\", \"Belo Horizonte\", \"Porto Alegre\", \"Brasília\", \"Curitiba\", \"Recife\", \"Salvador\", \"Fortaleza\", \"Manaus\", \"Florianópolis\", \"Goiânia\", \"Natal\", \"Belém\", \"Campinas\"],\n",
        "    \"Horário de Funcionamento\": [\"06:00-22:00\", \"06:00-22:00\", \"06:00-22:00\", \"06:00-22:00\", \"06:00-22:00\", \"06:00-22:00\", \"06:00-22:00\", \"06:00-22:00\", \"06:00-22:00\", \"06:00-22:00\", \"06:00-22:00\", \"06:00-22:00\", \"06:00-22:00\", \"06:00-22:00\", \"06:00-22:00\"],\n",
        "    \"Percentual de Gordura (%)\": [18, 20, 15, 22, 17, 16, 19, 21, 20, 18, 17, 23, 24, 25, 19],\n",
        "    \"Peso (kg)\": [70, 65, 80, 75, 68, 72, 74, 66, 73, 71, 69, 78, 82, 85, 76],\n",
        "    \"Altura (cm)\": [175, 168, 180, 165, 178, 170, 172, 160, 173, 174, 169, 182, 185, 188, 176],\n",
        "    \"Feedback\": [\"Excelente\", \"Bom\", \"Excelente\", \"Regular\", \"Bom\", \"Bom\", \"Excelente\", \"Excelente\", \"Regular\", \"Bom\", \"Bom\", \"Excelente\", \"Regular\", \"Excelente\", \"Bom\"],\n",
        "    \"Faixa Etária Mínima (anos)\": [16]*15,\n",
        "    \"Email do Aluno\": [\"joao@example.com\", \"mariana@example.com\", \"carlos@example.com\", \"amanda@example.com\", \"lucas@example.com\", \"ana@example.com\", \"ricardo@example.com\", \"julia@example.com\", \"marcos@example.com\", \"laura@example.com\", \"pedro@example.com\", \"bianca@example.com\", \"felipe@example.com\", \"carla@example.com\", \"bruno@example.com\"],\n",
        "    \"Telefone do Aluno\": [\"(11) 99999-0001\", \"(21) 99999-0002\", \"(31) 99999-0003\", \"(51) 99999-0004\", \"(61) 99999-0005\", \"(41) 99999-0006\", \"(81) 99999-0007\", \"(71) 99999-0008\", \"(85) 99999-0009\", \"(92) 99999-0010\", \"(48) 99999-0011\", \"(62) 99999-0012\", \"(84) 99999-0013\", \"(91) 99999-0014\", \"(19) 99999-0015\"],\n",
        "    \"Idade\": [25, 30, 28, 24, 35, 22, 27, 26, 29, 31, 23, 34, 32, 33, 28]\n",
        "}\n",
        "\n",
        "df = pd.DataFrame(dados)\n",
        "print(df)"
      ],
      "metadata": {
        "colab": {
          "base_uri": "https://localhost:8080/"
        },
        "id": "zhFL-DLJAVeF",
        "outputId": "1b9df9e7-49f1-42af-8f99-168b2fbb2333"
      },
      "execution_count": null,
      "outputs": [
        {
          "output_type": "stream",
          "name": "stdout",
          "text": [
            "   Data de Check-in  Avaliação Aparelhos de Treino Personal Trainer  \\\n",
            "0        2025-01-01          5             Esteira         Ana Lima   \n",
            "1        2025-01-02          4           Bicicleta     Carlos Souza   \n",
            "2        2025-01-03          5               Pesos   Maria Oliveira   \n",
            "3        2025-01-04          3     Máquina de Remo  Pedro Fernandes   \n",
            "4        2025-01-05          4            Elíptico    Luciana Costa   \n",
            "5        2025-01-06          4                Step         Ana Lima   \n",
            "6        2025-01-07          5           Leg Press     Carlos Souza   \n",
            "7        2025-01-08          5              Supino   Maria Oliveira   \n",
            "8        2025-01-09          3           Crossover  Pedro Fernandes   \n",
            "9        2025-01-10          4         Agachamento    Luciana Costa   \n",
            "10       2025-01-11          4        Lat Pulldown         Ana Lima   \n",
            "11       2025-01-12          5              Puxada     Carlos Souza   \n",
            "12       2025-01-13          3       Smith Machine   Maria Oliveira   \n",
            "13       2025-01-14          5             Abdutor  Pedro Fernandes   \n",
            "14       2025-01-15          4              Adutor    Luciana Costa   \n",
            "\n",
            "      Nome do Aluno      Localidade Horário de Funcionamento  \\\n",
            "0      João Pereira       São Paulo              06:00-22:00   \n",
            "1     Mariana Silva  Rio de Janeiro              06:00-22:00   \n",
            "2      Carlos Souza  Belo Horizonte              06:00-22:00   \n",
            "3       Amanda Lima    Porto Alegre              06:00-22:00   \n",
            "4       Lucas Costa        Brasília              06:00-22:00   \n",
            "5         Ana Paula        Curitiba              06:00-22:00   \n",
            "6    Ricardo Mendes          Recife              06:00-22:00   \n",
            "7     Julia Santana        Salvador              06:00-22:00   \n",
            "8   Marcos Teixeira       Fortaleza              06:00-22:00   \n",
            "9     Laura Ribeiro          Manaus              06:00-22:00   \n",
            "10   Pedro Henrique   Florianópolis              06:00-22:00   \n",
            "11  Bianca Oliveira         Goiânia              06:00-22:00   \n",
            "12   Felipe Almeida           Natal              06:00-22:00   \n",
            "13   Carla Monteiro           Belém              06:00-22:00   \n",
            "14    Bruno Martins        Campinas              06:00-22:00   \n",
            "\n",
            "    Percentual de Gordura (%)  Peso (kg)  Altura (cm)   Feedback  \\\n",
            "0                          18         70          175  Excelente   \n",
            "1                          20         65          168        Bom   \n",
            "2                          15         80          180  Excelente   \n",
            "3                          22         75          165    Regular   \n",
            "4                          17         68          178        Bom   \n",
            "5                          16         72          170        Bom   \n",
            "6                          19         74          172  Excelente   \n",
            "7                          21         66          160  Excelente   \n",
            "8                          20         73          173    Regular   \n",
            "9                          18         71          174        Bom   \n",
            "10                         17         69          169        Bom   \n",
            "11                         23         78          182  Excelente   \n",
            "12                         24         82          185    Regular   \n",
            "13                         25         85          188  Excelente   \n",
            "14                         19         76          176        Bom   \n",
            "\n",
            "    Faixa Etária Mínima (anos)       Email do Aluno Telefone do Aluno  Idade  \n",
            "0                           16     joao@example.com   (11) 99999-0001     25  \n",
            "1                           16  mariana@example.com   (21) 99999-0002     30  \n",
            "2                           16   carlos@example.com   (31) 99999-0003     28  \n",
            "3                           16   amanda@example.com   (51) 99999-0004     24  \n",
            "4                           16    lucas@example.com   (61) 99999-0005     35  \n",
            "5                           16      ana@example.com   (41) 99999-0006     22  \n",
            "6                           16  ricardo@example.com   (81) 99999-0007     27  \n",
            "7                           16    julia@example.com   (71) 99999-0008     26  \n",
            "8                           16   marcos@example.com   (85) 99999-0009     29  \n",
            "9                           16    laura@example.com   (92) 99999-0010     31  \n",
            "10                          16    pedro@example.com   (48) 99999-0011     23  \n",
            "11                          16   bianca@example.com   (62) 99999-0012     34  \n",
            "12                          16   felipe@example.com   (84) 99999-0013     32  \n",
            "13                          16    carla@example.com   (91) 99999-0014     33  \n",
            "14                          16    bruno@example.com   (19) 99999-0015     28  \n"
          ]
        }
      ]
    }
  ]
}